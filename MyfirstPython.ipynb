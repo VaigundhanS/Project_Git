{
 "cells": [
  {
   "cell_type": "code",
   "execution_count": 4,
   "metadata": {},
   "outputs": [
    {
     "name": "stdout",
     "output_type": "stream",
     "text": [
      "5\n"
     ]
    }
   ],
   "source": [
    "number=int(input('Enter Any Number: '))\n",
    "if number>0: \n",
    "    fact=number*number+1\n",
    "    number+=1\n",
    "print(fact)"
   ]
  }
 ],
 "metadata": {
  "kernelspec": {
   "display_name": "Python 3.10.5 64-bit",
   "language": "python",
   "name": "python3"
  },
  "language_info": {
   "codemirror_mode": {
    "name": "ipython",
    "version": 3
   },
   "file_extension": ".py",
   "mimetype": "text/x-python",
   "name": "python",
   "nbconvert_exporter": "python",
   "pygments_lexer": "ipython3",
   "version": "3.10.5"
  },
  "orig_nbformat": 4,
  "vscode": {
   "interpreter": {
    "hash": "d60039b4434b2f0c95866187075bad5b12434e9094225399fe628a47192d6ca2"
   }
  }
 },
 "nbformat": 4,
 "nbformat_minor": 2
}
